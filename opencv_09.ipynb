{
 "cells": [
  {
   "cell_type": "markdown",
   "metadata": {},
   "source": [
    "# 기하학적 변화"
   ]
  },
  {
   "cell_type": "code",
   "execution_count": null,
   "metadata": {},
   "outputs": [],
   "source": [
    "# cv2.warpAffine(src, M, dsie, dst = None, flags = None, boarderMode = None, borderValue= None) #예시"
   ]
  },
  {
   "cell_type": "code",
   "execution_count": null,
   "metadata": {},
   "outputs": [],
   "source": [
    "# src = cv2.imread('../EDA/data/tekapo.bmp')\n",
    "# aff = np.array([[1,0, 200],[0, 1, 100]],dtype = np.float32)\n",
    "# dst= cv2.wrapAffine(src, aff, (0,0))"
   ]
  },
  {
   "cell_type": "code",
   "execution_count": 1,
   "metadata": {},
   "outputs": [
    {
     "name": "stderr",
     "output_type": "stream",
     "text": [
      "qt.qpa.plugin: Could not find the Qt platform plugin \"wayland\" in \"/home/kang/venv/opencv/lib/python3.10/site-packages/cv2/qt/plugins\"\n"
     ]
    }
   ],
   "source": [
    "import sys\n",
    "import numpy as np\n",
    "import cv2\n",
    "\n",
    "src = cv2.imread('../EDA/data/tekapo.bmp')\n",
    "aff = np.array([[1, 0, 200],[0, 1, 100]],dtype = np.float32)\n",
    "dst= cv2.warpAffine(src, aff, (0, 0))\n",
    "\n",
    "cv2.imshow('src', src)\n",
    "cv2.imshow('dst',dst)\n",
    "cv2.waitKey()\n",
    "cv2.destroyAllWindows()"
   ]
  },
  {
   "cell_type": "code",
   "execution_count": 2,
   "metadata": {},
   "outputs": [],
   "source": [
    "import sys\n",
    "import numpy as np\n",
    "import cv2\n",
    "\n",
    "src = cv2.imread('../EDA/data/tekapo.bmp')\n",
    "aff = np.array([[1, 0, 200],[0, 1, 100]],dtype = np.float32)\n",
    "dst= cv2.warpAffine(src, aff, (0, 0))\n",
    "h,w = src.shape[:2]\n",
    "dst = cv2.warpAffine(src, aff, (w + int(h * 0.5), h))\n",
    "\n",
    "cv2.imshow('src', src)\n",
    "cv2.imshow('dst',dst)\n",
    "cv2.waitKey()\n",
    "cv2.destroyAllWindows()\n"
   ]
  },
  {
   "cell_type": "markdown",
   "metadata": {},
   "source": [
    "# 2 영상의 확대와 축소\n",
    "\n",
    "### 2.1 크기 변환"
   ]
  },
  {
   "cell_type": "code",
   "execution_count": 4,
   "metadata": {},
   "outputs": [],
   "source": [
    "import sys\n",
    "import numpy as np\n",
    "import cv2\n",
    "\n",
    "src = cv2.imread('../EDA/data/tekapo.bmp')#src.shape = (320, 480)\n",
    "\n",
    "if src is None:\n",
    "    print('image load failed!')\n",
    "    sys.exit()\n",
    "\n",
    "dst1 = cv2.resize(src, (0, 0), fx=4, fy =4, interpolation= cv2.INTER_NEAREST)\n",
    "dst2 = cv2.resize(src, (1920, 1280)) #cv2.INTER_LINER\n",
    "dst3 = cv2.resize(src, (1920, 1280),  interpolation= cv2.INTER_CUBIC)\n",
    "dst4 = cv2.resize(src, (1920, 1280), interpolation= cv2.INTER_LANCZOS4)\n",
    "\n",
    "cv2.imshow('src', src)\n",
    "cv2.imshow('dst1',dst1[500:900, 400:800])\n",
    "cv2.imshow('dst2',dst2[500:900, 400:800])\n",
    "cv2.imshow('dst3',dst3[500:900, 400:800])\n",
    "cv2.imshow('dst4',dst4[500:900, 400:800])\n",
    "cv2.waitKey()\n",
    "cv2.destroyAllWindows()\n",
    "\n",
    "\n",
    "\n"
   ]
  },
  {
   "cell_type": "markdown",
   "metadata": {},
   "source": [
    "# 2.4 대칭변환 flip"
   ]
  },
  {
   "cell_type": "markdown",
   "metadata": {},
   "source": [
    "# 2.5 pyrDown"
   ]
  },
  {
   "cell_type": "markdown",
   "metadata": {},
   "source": [
    "3 회전\n",
    "\n",
    "3.1 회전"
   ]
  },
  {
   "cell_type": "code",
   "execution_count": 9,
   "metadata": {},
   "outputs": [],
   "source": [
    "import sys\n",
    "import math\n",
    "import numpy as np\n",
    "import cv2\n",
    "\n",
    "src = cv2.imread('../EDA/data/tekapo.bmp')#src.shape = (320, 480)\n",
    "\n",
    "if src is None:\n",
    "    print('image load failed!')\n",
    "    sys.exit()\n",
    "\n",
    "rad = 20 * math.pi / 180\n",
    "aff = np.array([[math.cos(rad), math.sin(rad), 0],\n",
    "[-math.sin(rad), math.cos(rad), 0]], dtype=np.float32)\n",
    "\n",
    "dst= cv2.warpAffine(src, aff, (0, 0))\n",
    "cv2.imshow('src', src)\n",
    "cv2.imshow('dst', dst)\n",
    "cv2.waitKey()\n",
    "\n",
    "cv2.destroyAllWindows()"
   ]
  },
  {
   "cell_type": "markdown",
   "metadata": {},
   "source": [
    "# 3.4 회전행렬 구하기"
   ]
  },
  {
   "cell_type": "code",
   "execution_count": 11,
   "metadata": {},
   "outputs": [],
   "source": [
    "import sys\n",
    "import numpy as np\n",
    "import cv2\n",
    "\n",
    "src = cv2.imread('../EDA/data/tekapo.bmp')#src.shape = (320, 480)\n",
    "\n",
    "if src is None:\n",
    "    print('image load failed!')\n",
    "    sys.exit()\n",
    "\n",
    "cp = (src.shape[1] / 2, src.shape[0] / 2)\n",
    "rot = cv2.getRotationMatrix2D(cp, 20, 0.5)\n",
    "\n",
    "dst = cv2.warpAffine(src, rot, (0,0))\n",
    "\n",
    "cv2.imshow('src', src)\n",
    "cv2.imshow('dst', dst)\n",
    "cv2.waitKey()\n",
    "\n",
    "cv2.destroyAllWindows()"
   ]
  },
  {
   "cell_type": "markdown",
   "metadata": {},
   "source": [
    "# 4 기하학적 변환"
   ]
  },
  {
   "cell_type": "markdown",
   "metadata": {},
   "source": [
    "# 5 영상의 기하학적 변환"
   ]
  },
  {
   "cell_type": "markdown",
   "metadata": {},
   "source": []
  },
  {
   "cell_type": "markdown",
   "metadata": {},
   "source": [
    "5.5 이동 변환 예제"
   ]
  },
  {
   "cell_type": "code",
   "execution_count": 12,
   "metadata": {},
   "outputs": [],
   "source": [
    "import sys\n",
    "import numpy as np\n",
    "import cv2\n",
    "\n",
    "src = cv2.imread('../EDA/data/tekapo.bmp')\n",
    "aff = np.array([[1, 0, 200],[0, 1, 100]],dtype = np.float32)\n",
    "dst= cv2.warpAffine(src, aff, (0, 0))\n",
    "\n",
    "cv2.imshow('src', src)\n",
    "cv2.imshow('dst', dst)\n",
    "cv2.waitKey()\n",
    "\n",
    "cv2.destroyAllWindows()\n"
   ]
  },
  {
   "cell_type": "markdown",
   "metadata": {},
   "source": [
    "# 5.7 확대와 축소\n",
    "## 5.9 resize 예제"
   ]
  },
  {
   "cell_type": "code",
   "execution_count": 13,
   "metadata": {},
   "outputs": [],
   "source": [
    "src = cv2.imread('../EDA/data/rose.bmp')  #480x320\n",
    "\n",
    "dst1 = cv2.resize(src,(0,0), fx=4 , fy=4, interpolation=cv2.INTER_NEAREST)\n",
    "dst2 = cv2.resize(src, (1920, 1280)) #cv2.INTER_LINEAR\n",
    "dst3 = cv2.resize(src,(1920, 1280), interpolation=cv2.INTER_CUBIC)\n",
    "dst4 = cv2.resize(src,(1920, 1280), interpolation=cv2.INTER_LANCZOS4)\n",
    "\n",
    "cv2.imshow('src', src)\n",
    "cv2.imshow('dst1', dst1[500:900, 400:800])\n",
    "cv2.imshow('dst2', dst2[500:900, 400:800])\n",
    "cv2.imshow('dst3', dst3[500:900, 400:800])\n",
    "cv2.imshow('dst4', dst4[500:900, 400:800])\n",
    "cv2.waitKey()\n",
    "\n",
    "cv2.destroyAllWindows()"
   ]
  },
  {
   "cell_type": "markdown",
   "metadata": {},
   "source": [
    "# 6 응용\n",
    "\n",
    "## 6.1 어파인 변환과 투시 변환"
   ]
  },
  {
   "cell_type": "markdown",
   "metadata": {},
   "source": [
    "##### 6.7 명함 펴기"
   ]
  },
  {
   "cell_type": "code",
   "execution_count": 14,
   "metadata": {},
   "outputs": [],
   "source": [
    "import sys\n",
    "import numpy as np\n",
    "import cv2\n",
    "\n",
    "src = cv2.imread('../EDA/data/pinkwink_namecard.jpeg')\n",
    "\n",
    "if src is None:\n",
    "    print('Imageload failed!')\n",
    "    sys.exit()\n",
    "\n",
    "w,h = 720, 400\n",
    "srcQuad = np.array([[360, 345], [879, 404], [895, 664], [254, 573]], np.float32)\n",
    "dstQuad = np.array([[0, 0], [w-1, 0], [w-1, h-1], [0, h-1]], np.float32)\n",
    "\n",
    "pers =cv2.getPerspectiveTransform(srcQuad, dstQuad)\n",
    "dst= cv2.warpPerspective(src, pers, (w,h))\n",
    "\n",
    "cv2.imshow('src', src)\n",
    "cv2.imshow('dst', dst)\n",
    "while True:\n",
    "    if cv2.waitKey()==27:\n",
    "        break\n",
    "cv2.destroyAllWindows()\n"
   ]
  },
  {
   "cell_type": "markdown",
   "metadata": {},
   "source": [
    "# 문서펴기"
   ]
  },
  {
   "cell_type": "code",
   "execution_count": 2,
   "metadata": {},
   "outputs": [],
   "source": [
    "import sys\n",
    "import numpy as np\n",
    "import cv2\n",
    "\n",
    "def drawROI(img, corners):\n",
    "    cpy = img.copy()\n",
    "\n",
    "    c1 = (192, 192, 255)\n",
    "    c2 = (128, 128, 255)\n",
    "\n",
    "    corners = corners.astype(int)\n",
    "\n",
    "    for pt in corners:\n",
    "        cv2.circle(cpy, tuple(pt), 25, c1, -1, cv2.LINE_AA)\n",
    "    cv2.line(cpy, tuple(corners[0]), tuple(corners[1]), c2, 2, cv2.LINE_AA)\n",
    "    cv2.line(cpy, tuple(corners[1]), tuple(corners[2]), c2, 2, cv2.LINE_AA)\n",
    "    cv2.line(cpy, tuple(corners[2]), tuple(corners[3]), c2, 2, cv2.LINE_AA)\n",
    "    cv2.line(cpy, tuple(corners[3]), tuple(corners[0]), c2, 2, cv2.LINE_AA)\n",
    "\n",
    "    disp =cv2.addWeighted(img, 0.3, cpy, 0.7, 0)\n",
    "\n",
    "    return disp\n",
    "\n",
    "def onMouse(event, x, y, flags, param):\n",
    "    global srcQuad, dragSrc, ptOld, src\n",
    "\n",
    "    if event == cv2.EVENT_LBUTTONDOWN:\n",
    "        for i in range(4):\n",
    "            if cv2.norm(srcQuad[i] - (x,y)) < 25:\n",
    "                dragSrc[i] = True\n",
    "                ptOld = (x, y)\n",
    "                break\n",
    "\n",
    "    if event == cv2.EVENT_LBUTTONUP:\n",
    "        for i in range(4):\n",
    "            dragSrc[i] = False\n",
    "\n",
    "    if event == cv2.EVENT_MOUSEMOVE:\n",
    "        for i in range(4):\n",
    "            if dragSrc[i]:\n",
    "                dx = x - ptOld[0]\n",
    "                dy = y - ptOld[1]\n",
    "\n",
    "                srcQuad[i] += (dx,dy)\n",
    "\n",
    "                cpy = drawROI(src, srcQuad)\n",
    "                cv2.imshow('img', cpy)\n",
    "                ptOld = (x, y)\n",
    "                break\n",
    "\n",
    "# 이미지 입력 불러오기\n",
    "\n",
    "src = cv2.imread('../EDA/data/scanned.jpg')\n",
    "\n",
    "if src is None:\n",
    "    print('Image open failed!')\n",
    "    sys.exit()\n",
    "# 입력 영상 크기 및 출력 영상 크기 \n",
    "\n",
    "h, w = src.shape[:2]\n",
    "dw = 500\n",
    "dh = round(dw*297 / 210)# A4 용지 크기: 210x297cm\n",
    "\n",
    "# 모서리 점들의 좌표, 드래그 상태 여부\n",
    "srcQuad = np.array([[30,30], [30, h-30], [w-30, h-30], [w-30, 30]], np.float32)\n",
    "dstQuad = np.array([[0,0], [0, dh-1], [dw-1, dh-1], [dw-1, 0]], np.float32)\n",
    "dragSrc = [False, False, False, False]\n",
    "\n",
    "# 모서리점, 사각형 그리기\n",
    "disp = drawROI(src, srcQuad)\n",
    "\n",
    "cv2.imshow('img',disp)\n",
    "cv2.setMouseCallback('img', onMouse)\n",
    "\n",
    "while True:\n",
    "    key = cv2.waitKey()\n",
    "    if key == 13: # ENTER 키\n",
    "        break\n",
    "    elif key == 27:\n",
    "        cv2.destroyWindow('img')\n",
    "        sys.exit()\n",
    "# 투시 변환\n",
    "\n",
    "pers = cv2.getPerspectiveTransform(srcQuad, dstQuad)\n",
    "dst = cv2.warpPerspective(src, pers, (dw, dh), flags = cv2.INTER_CUBIC)\n",
    "\n",
    "# 결과 영상 출력\n",
    "cv2.imshow('dst',dst)\n",
    "\n",
    "while True:\n",
    "    if cv2.waitKey() ==27:\n",
    "        break\n",
    "cv2.destroyAllWindows()"
   ]
  },
  {
   "cell_type": "code",
   "execution_count": null,
   "metadata": {},
   "outputs": [],
   "source": []
  },
  {
   "cell_type": "code",
   "execution_count": null,
   "metadata": {},
   "outputs": [],
   "source": []
  }
 ],
 "metadata": {
  "kernelspec": {
   "display_name": "opencv",
   "language": "python",
   "name": "python3"
  },
  "language_info": {
   "codemirror_mode": {
    "name": "ipython",
    "version": 3
   },
   "file_extension": ".py",
   "mimetype": "text/x-python",
   "name": "python",
   "nbconvert_exporter": "python",
   "pygments_lexer": "ipython3",
   "version": "3.10.12"
  }
 },
 "nbformat": 4,
 "nbformat_minor": 2
}
